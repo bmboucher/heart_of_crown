{
 "metadata": {
  "language_info": {
   "codemirror_mode": {
    "name": "ipython",
    "version": 3
   },
   "file_extension": ".py",
   "mimetype": "text/x-python",
   "name": "python",
   "nbconvert_exporter": "python",
   "pygments_lexer": "ipython3",
   "version": "3.8.8"
  },
  "orig_nbformat": 2,
  "kernelspec": {
   "name": "python3",
   "display_name": "Python 3.8.8  ('.venv': venv)",
   "metadata": {
    "interpreter": {
     "hash": "bb2fcbe377ccead816a21710bdc87e16e7252ffbaf7c1864dc742c8b50bf7eb6"
    }
   }
  }
 },
 "nbformat": 4,
 "nbformat_minor": 2,
 "cells": [
  {
   "source": [
    "from pathlib import Path\n",
    "output_files = list((Path.cwd() / 'hoc/output').glob('games_*.txt'))"
   ],
   "cell_type": "code",
   "metadata": {},
   "execution_count": null,
   "outputs": []
  },
  {
   "cell_type": "code",
   "execution_count": null,
   "metadata": {
    "tags": []
   },
   "outputs": [],
   "source": [
    "import pandas as pd\n",
    "import numpy as np\n",
    "df = pd.concat(pd.read_table(output_file, sep=' ',\n",
    "    names = ['round', 'game', 'princess'] + [\n",
    "        f'hand_{i}' for i in range(50)], index_col=[0,1],\n",
    "    na_values = ['None']) for output_file in output_files)\n",
    "max_sp = df['hand_0']\n",
    "for i in range(1, 50):\n",
    "    max_sp = df[f'hand_{i}'].fillna(max_sp)\n",
    "    df[f'hand_{i}'] = max_sp"
   ]
  },
  {
   "cell_type": "code",
   "execution_count": null,
   "metadata": {},
   "outputs": [],
   "source": [
    "df"
   ]
  },
  {
   "cell_type": "code",
   "execution_count": null,
   "metadata": {},
   "outputs": [],
   "source": [
    "agg = df.groupby('round').mean()"
   ]
  },
  {
   "cell_type": "code",
   "execution_count": null,
   "metadata": {},
   "outputs": [],
   "source": [
    "agg"
   ]
  },
  {
   "cell_type": "code",
   "execution_count": null,
   "metadata": {},
   "outputs": [],
   "source": [
    "import plotly.graph_objects as go\n",
    "from plotly.offline import init_notebook_mode, plot"
   ]
  },
  {
   "cell_type": "code",
   "execution_count": null,
   "metadata": {},
   "outputs": [],
   "source": [
    "fig = go.Figure(data=[go.Scatter(x=agg.index, y=agg.princess)])\n",
    "fig.show()"
   ]
  },
  {
   "cell_type": "code",
   "execution_count": null,
   "metadata": {},
   "outputs": [],
   "source": [
    "def fix_nan(x):\n",
    "    if x is None or np.isnan(x):\n",
    "        return 20.0\n",
    "    else:\n",
    "        return x"
   ]
  },
  {
   "cell_type": "code",
   "execution_count": null,
   "metadata": {},
   "outputs": [],
   "source": [
    "frames = [\n",
    "    go.Frame(data=[\n",
    "        go.Scatter(x=list(range(50)), y=[fix_nan(agg.loc[r][f'hand_{i}']) for i in range(50)])\n",
    "    ], layout=go.Layout(title=f'Round {r}'))\n",
    "    for r in agg.index\n",
    "]"
   ]
  },
  {
   "cell_type": "code",
   "execution_count": null,
   "metadata": {},
   "outputs": [],
   "source": [
    "fig = go.Figure(data=frames[0]['data'], frames=frames,\n",
    "    layout=go.Layout(\n",
    "        xaxis=dict(range=[0,50]),\n",
    "        yaxis=dict(range=[-5,25]),\n",
    "        updatemenus=[dict(\n",
    "            type=\"buttons\",\n",
    "            buttons=[dict(label=\"Play\",\n",
    "                          method=\"animate\",\n",
    "                          args=[None])])]))"
   ]
  },
  {
   "cell_type": "code",
   "execution_count": null,
   "metadata": {},
   "outputs": [],
   "source": [
    "plot(fig)"
   ]
  },
  {
   "cell_type": "code",
   "execution_count": null,
   "metadata": {},
   "outputs": [],
   "source": [
    "frames[0]['data']"
   ]
  },
  {
   "cell_type": "code",
   "execution_count": null,
   "metadata": {},
   "outputs": [],
   "source": []
  }
 ]
}